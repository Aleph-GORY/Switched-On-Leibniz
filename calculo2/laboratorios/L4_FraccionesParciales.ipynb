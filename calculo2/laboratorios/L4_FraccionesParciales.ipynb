{
 "cells": [
  {
   "cell_type": "markdown",
   "source": [
    "# Fracciones parciales\n",
    "\n",
    "Laboratorio de cálculo diferencial e integral 2.\n",
    "\n",
    "Prof. Armando Benjamin Cruz Hinojosa (Gory)."
   ],
   "metadata": {}
  },
  {
   "cell_type": "code",
   "execution_count": 1,
   "source": [
    "from sympy import *"
   ],
   "outputs": [],
   "metadata": {}
  },
  {
   "cell_type": "code",
   "execution_count": 2,
   "source": [
    "x = symbols('x', real=True)\n",
    "\n",
    "lin = x + 1\n",
    "cuad = x**2 + 1"
   ],
   "outputs": [],
   "metadata": {}
  },
  {
   "cell_type": "code",
   "execution_count": 8,
   "source": [
    "expand(cuad**2)"
   ],
   "outputs": [
    {
     "output_type": "execute_result",
     "data": {
      "text/latex": [
       "$\\displaystyle x^{4} + 2 x^{2} + 1$"
      ],
      "text/plain": [
       "x**4 + 2*x**2 + 1"
      ]
     },
     "metadata": {},
     "execution_count": 8
    }
   ],
   "metadata": {}
  },
  {
   "cell_type": "code",
   "execution_count": 10,
   "source": [
    "a1,a2,a3,b1,b2,b3,c1,c2,c3 = symbols('a1 a2 a3 b1 b2 b3 c1 c2 c3', real=True)"
   ],
   "outputs": [],
   "metadata": {}
  },
  {
   "cell_type": "code",
   "execution_count": 11,
   "source": [
    "suma_expandida = expand(\n",
    "    (a1*x + b1)*cuad**5*lin**6 +\n",
    "    (a2*x + b2)*cuad**4*lin**6 +\n",
    "    (a3*x + b3)*cuad**3*lin**6\n",
    ")"
   ],
   "outputs": [],
   "metadata": {}
  },
  {
   "cell_type": "code",
   "execution_count": 12,
   "source": [
    "suma_expandida"
   ],
   "outputs": [
    {
     "output_type": "execute_result",
     "data": {
      "text/latex": [
       "$\\displaystyle a_{1} x^{17} + 6 a_{1} x^{16} + 20 a_{1} x^{15} + 50 a_{1} x^{14} + 100 a_{1} x^{13} + 166 a_{1} x^{12} + 236 a_{1} x^{11} + 290 a_{1} x^{10} + 310 a_{1} x^{9} + 290 a_{1} x^{8} + 236 a_{1} x^{7} + 166 a_{1} x^{6} + 100 a_{1} x^{5} + 50 a_{1} x^{4} + 20 a_{1} x^{3} + 6 a_{1} x^{2} + a_{1} x + a_{2} x^{15} + 6 a_{2} x^{14} + 19 a_{2} x^{13} + 44 a_{2} x^{12} + 81 a_{2} x^{11} + 122 a_{2} x^{10} + 155 a_{2} x^{9} + 168 a_{2} x^{8} + 155 a_{2} x^{7} + 122 a_{2} x^{6} + 81 a_{2} x^{5} + 44 a_{2} x^{4} + 19 a_{2} x^{3} + 6 a_{2} x^{2} + a_{2} x + a_{3} x^{13} + 6 a_{3} x^{12} + 18 a_{3} x^{11} + 38 a_{3} x^{10} + 63 a_{3} x^{9} + 84 a_{3} x^{8} + 92 a_{3} x^{7} + 84 a_{3} x^{6} + 63 a_{3} x^{5} + 38 a_{3} x^{4} + 18 a_{3} x^{3} + 6 a_{3} x^{2} + a_{3} x + b_{1} x^{16} + 6 b_{1} x^{15} + 20 b_{1} x^{14} + 50 b_{1} x^{13} + 100 b_{1} x^{12} + 166 b_{1} x^{11} + 236 b_{1} x^{10} + 290 b_{1} x^{9} + 310 b_{1} x^{8} + 290 b_{1} x^{7} + 236 b_{1} x^{6} + 166 b_{1} x^{5} + 100 b_{1} x^{4} + 50 b_{1} x^{3} + 20 b_{1} x^{2} + 6 b_{1} x + b_{1} + b_{2} x^{14} + 6 b_{2} x^{13} + 19 b_{2} x^{12} + 44 b_{2} x^{11} + 81 b_{2} x^{10} + 122 b_{2} x^{9} + 155 b_{2} x^{8} + 168 b_{2} x^{7} + 155 b_{2} x^{6} + 122 b_{2} x^{5} + 81 b_{2} x^{4} + 44 b_{2} x^{3} + 19 b_{2} x^{2} + 6 b_{2} x + b_{2} + b_{3} x^{12} + 6 b_{3} x^{11} + 18 b_{3} x^{10} + 38 b_{3} x^{9} + 63 b_{3} x^{8} + 84 b_{3} x^{7} + 92 b_{3} x^{6} + 84 b_{3} x^{5} + 63 b_{3} x^{4} + 38 b_{3} x^{3} + 18 b_{3} x^{2} + 6 b_{3} x + b_{3}$"
      ],
      "text/plain": [
       "a1*x**17 + 6*a1*x**16 + 20*a1*x**15 + 50*a1*x**14 + 100*a1*x**13 + 166*a1*x**12 + 236*a1*x**11 + 290*a1*x**10 + 310*a1*x**9 + 290*a1*x**8 + 236*a1*x**7 + 166*a1*x**6 + 100*a1*x**5 + 50*a1*x**4 + 20*a1*x**3 + 6*a1*x**2 + a1*x + a2*x**15 + 6*a2*x**14 + 19*a2*x**13 + 44*a2*x**12 + 81*a2*x**11 + 122*a2*x**10 + 155*a2*x**9 + 168*a2*x**8 + 155*a2*x**7 + 122*a2*x**6 + 81*a2*x**5 + 44*a2*x**4 + 19*a2*x**3 + 6*a2*x**2 + a2*x + a3*x**13 + 6*a3*x**12 + 18*a3*x**11 + 38*a3*x**10 + 63*a3*x**9 + 84*a3*x**8 + 92*a3*x**7 + 84*a3*x**6 + 63*a3*x**5 + 38*a3*x**4 + 18*a3*x**3 + 6*a3*x**2 + a3*x + b1*x**16 + 6*b1*x**15 + 20*b1*x**14 + 50*b1*x**13 + 100*b1*x**12 + 166*b1*x**11 + 236*b1*x**10 + 290*b1*x**9 + 310*b1*x**8 + 290*b1*x**7 + 236*b1*x**6 + 166*b1*x**5 + 100*b1*x**4 + 50*b1*x**3 + 20*b1*x**2 + 6*b1*x + b1 + b2*x**14 + 6*b2*x**13 + 19*b2*x**12 + 44*b2*x**11 + 81*b2*x**10 + 122*b2*x**9 + 155*b2*x**8 + 168*b2*x**7 + 155*b2*x**6 + 122*b2*x**5 + 81*b2*x**4 + 44*b2*x**3 + 19*b2*x**2 + 6*b2*x + b2 + b3*x**12 + 6*b3*x**11 + 18*b3*x**10 + 38*b3*x**9 + 63*b3*x**8 + 84*b3*x**7 + 92*b3*x**6 + 84*b3*x**5 + 63*b3*x**4 + 38*b3*x**3 + 18*b3*x**2 + 6*b3*x + b3"
      ]
     },
     "metadata": {},
     "execution_count": 12
    }
   ],
   "metadata": {}
  },
  {
   "cell_type": "code",
   "execution_count": null,
   "source": [],
   "outputs": [],
   "metadata": {}
  },
  {
   "cell_type": "code",
   "execution_count": null,
   "source": [],
   "outputs": [],
   "metadata": {}
  },
  {
   "cell_type": "code",
   "execution_count": 52,
   "source": [
    "r = factor(g, extension=list(filter(lambda x: x.is_real, roots(g).keys())))\n",
    "r"
   ],
   "outputs": [
    {
     "output_type": "execute_result",
     "data": {
      "text/latex": [
       "$\\displaystyle \\left(x - \\sqrt[3]{2}\\right) \\left(x^{2} + \\sqrt[3]{2} x + 2^{\\frac{2}{3}}\\right)$"
      ],
      "text/plain": [
       "(x - 2**(1/3))*(x**2 + 2**(1/3)*x + 2**(2/3))"
      ]
     },
     "metadata": {},
     "execution_count": 52
    }
   ],
   "metadata": {}
  },
  {
   "cell_type": "code",
   "execution_count": 25,
   "source": [
    "r = factor(g, extension=list(filter(lambda x: x.is_real, roots(g).keys())))\n",
    "r"
   ],
   "outputs": [
    {
     "output_type": "execute_result",
     "data": {
      "text/latex": [
       "$\\displaystyle x^{3} - 2$"
      ],
      "text/plain": [
       "x**3 - 2"
      ]
     },
     "metadata": {},
     "execution_count": 25
    }
   ],
   "metadata": {}
  },
  {
   "cell_type": "code",
   "execution_count": 55,
   "source": [
    "r = apart(f/g, extension=list(filter(lambda x: x.is_real, roots(g).keys())))\n",
    "r"
   ],
   "outputs": [
    {
     "output_type": "execute_result",
     "data": {
      "text/latex": [
       "$\\displaystyle - \\frac{- 4 x + \\sqrt[3]{2} x + 2 \\cdot 2^{\\frac{2}{3}} x - 4 - 2 \\cdot \\sqrt[3]{2} + 2 \\cdot 2^{\\frac{2}{3}}}{6 \\left(x^{2} + \\sqrt[3]{2} x + 2^{\\frac{2}{3}}\\right)} + \\frac{\\sqrt[3]{2} + 2 + 2 \\cdot 2^{\\frac{2}{3}}}{6 \\left(x - \\sqrt[3]{2}\\right)}$"
      ],
      "text/plain": [
       "-(-4*x + 2**(1/3)*x + 2*2**(2/3)*x - 4 - 2*2**(1/3) + 2*2**(2/3))/(6*(x**2 + 2**(1/3)*x + 2**(2/3))) + (2**(1/3) + 2 + 2*2**(2/3))/(6*(x - 2**(1/3)))"
      ]
     },
     "metadata": {},
     "execution_count": 55
    }
   ],
   "metadata": {}
  },
  {
   "cell_type": "code",
   "execution_count": 44,
   "source": [
    "roots(g).keys()"
   ],
   "outputs": [
    {
     "output_type": "execute_result",
     "data": {
      "text/plain": [
       "dict_keys([2**(1/3), -2**(1/3)/2 - 2**(1/3)*sqrt(3)*I/2, -2**(1/3)/2 + 2**(1/3)*sqrt(3)*I/2])"
      ]
     },
     "metadata": {},
     "execution_count": 44
    }
   ],
   "metadata": {}
  },
  {
   "cell_type": "code",
   "execution_count": null,
   "source": [],
   "outputs": [],
   "metadata": {}
  }
 ],
 "metadata": {
  "orig_nbformat": 4,
  "language_info": {
   "name": "python",
   "version": "3.9.12",
   "mimetype": "text/x-python",
   "codemirror_mode": {
    "name": "ipython",
    "version": 3
   },
   "pygments_lexer": "ipython3",
   "nbconvert_exporter": "python",
   "file_extension": ".py"
  },
  "kernelspec": {
   "name": "python3",
   "display_name": "Python 3.9.12 64-bit ('switched-on-leibniz': conda)"
  },
  "interpreter": {
   "hash": "526a0034a8edf5757fa860c97c8e2739fc9c3fb2bc85bb6e519a090cee15a35e"
  }
 },
 "nbformat": 4,
 "nbformat_minor": 2
}