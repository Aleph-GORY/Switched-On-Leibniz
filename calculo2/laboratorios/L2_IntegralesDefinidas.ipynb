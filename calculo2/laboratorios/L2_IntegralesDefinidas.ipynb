{
  "nbformat": 4,
  "nbformat_minor": 0,
  "metadata": {
    "colab": {
      "name": "2021-05-28_SumaRiemann.ipynb",
      "provenance": [],
      "collapsed_sections": [],
      "authorship_tag": "ABX9TyPiMBIYA0LWi0QNJO8NkI+d",
      "include_colab_link": true
    },
    "kernelspec": {
      "name": "python3",
      "display_name": "Python 3"
    },
    "language_info": {
      "name": "python"
    }
  },
  "cells": [
    {
      "cell_type": "markdown",
      "metadata": {
        "id": "view-in-github",
        "colab_type": "text"
      },
      "source": [
        "<a href=\"https://colab.research.google.com/github/Aleph-GORY/calculus_labs/blob/main/2021-05-28_SumaRiemann.ipynb\" target=\"_parent\"><img src=\"https://colab.research.google.com/assets/colab-badge.svg\" alt=\"Open In Colab\"/></a>"
      ]
    },
    {
      "cell_type": "markdown",
      "metadata": {
        "id": "r1naPhJTkIq-"
      },
      "source": [
        "#Cálculo diferencial e Integral 4\n",
        "####2021/05/28 - Sumas de Riemann"
      ]
    },
    {
      "cell_type": "code",
      "metadata": {
        "id": "K_3Xam1mDTbd"
      },
      "source": [
        "import numpy as np\n",
        "import time\n",
        "from matplotlib import pyplot as plt"
      ],
      "execution_count": 39,
      "outputs": []
    },
    {
      "cell_type": "markdown",
      "metadata": {
        "id": "xyf5LtfzBONS"
      },
      "source": [
        "La integral de Riemann para funciones de $\\mathbb{R}^n$ en $\\mathbb{R}$ utiliza las $n$-celdas cerradas como medio de aproximación.\n",
        "\n",
        "Una $n$-celda cerrada es por definición el producto cartesiano de $n$ intervalos cerrados del conjunto de los números reales, en este sentido, generalizan a los intervalos cerrados de $\\mathbb{R}$."
      ]
    },
    {
      "cell_type": "code",
      "metadata": {
        "id": "eb5fNmE4NsMB"
      },
      "source": [
        "class Celda(object):\n",
        "  def __init__(self, componentes):\n",
        "    self.dimen = len(componentes)\n",
        "    self.componentes = componentes\n",
        "    self.contenido = self.calcula_contenido()\n",
        "\n",
        "  def calcula_contenido(self):\n",
        "    contenido = 1\n",
        "    for componente in self.componentes:\n",
        "      contenido = contenido * (componente[1] - componente[0])\n",
        "    return contenido"
      ],
      "execution_count": 40,
      "outputs": []
    },
    {
      "cell_type": "code",
      "metadata": {
        "id": "KjIGdCBSBepv"
      },
      "source": [
        "# A es la celda [0,2]X[0,1]\n",
        "A = Celda([[0,2],[0,1]])"
      ],
      "execution_count": 41,
      "outputs": []
    },
    {
      "cell_type": "markdown",
      "metadata": {
        "id": "VcrvBfPrBxJ3"
      },
      "source": [
        "Método para generar la matriz $\\mathcal{M}$ cuya entrada $(i,j)$ corresponde con el centro de la celda $C_{i,j}$ de la partición regular en $n\\times n$ trozos de la $2$-celda A"
      ]
    },
    {
      "cell_type": "code",
      "metadata": {
        "id": "-TuggUkW4VOA"
      },
      "source": [
        "def calcula_M(A, n):\n",
        "  # Obtener los intervalos componentes\n",
        "  Ix = A.componentes[0]\n",
        "  Iy = A.componentes[1]\n",
        "  deltax = (Ix[1] - Ix[0])/n\n",
        "  deltay = (Iy[1] - Iy[0])/n\n",
        "  contenido = deltax*deltay\n",
        "  # p es el centro de la celda 1,1 de la partición\n",
        "  p = [Ix[0]+deltax/2, Iy[0]+deltay/2]\n",
        "  # Creamos la matriz de n,n con los centros de las celdas\n",
        "  M = []\n",
        "  for i in range(n):\n",
        "    renglon = []\n",
        "    for j in range(n):\n",
        "      renglon.append([p[0]+i*deltax, p[1]+j*deltay])\n",
        "    M.append(renglon)\n",
        "  return M, contenido"
      ],
      "execution_count": 42,
      "outputs": []
    },
    {
      "cell_type": "code",
      "metadata": {
        "colab": {
          "base_uri": "https://localhost:8080/"
        },
        "id": "ZCWIcDkl647M",
        "outputId": "f4f51d3c-2a15-4360-d02e-afe00cdbb71e"
      },
      "source": [
        "# Prueba para calcula_M\n",
        "A = Celda([[0,1], [2,4]])\n",
        "M, cont = calcula_M(A, 2)\n",
        "# Esto solo es para imprimir bonito la matriz\n",
        "for renglon in M:\n",
        "  s = ''\n",
        "  for punto in renglon:\n",
        "    s += '(' + str(punto[0]) + ', ' + str(punto[1]) + ')   '\n",
        "  print(s)\n",
        "print('El contenido de la celda es', cont)"
      ],
      "execution_count": 43,
      "outputs": [
        {
          "output_type": "stream",
          "text": [
            "(0.25, 2.5)   (0.25, 3.5)   \n",
            "(0.75, 2.5)   (0.75, 3.5)   \n",
            "El contenido de la celda es 0.5\n"
          ],
          "name": "stdout"
        }
      ]
    },
    {
      "cell_type": "markdown",
      "metadata": {
        "id": "SZN7HEXh-6H_"
      },
      "source": [
        "Este método calcula la suma de Riemann de $f$ sobre la celda $A$, con los puntos medios de la matriz $M$."
      ]
    },
    {
      "cell_type": "code",
      "metadata": {
        "id": "naBLDe12_F5_"
      },
      "source": [
        "def suma_Riemann(f, A, n):\n",
        "  M, cont = calcula_M(A, n)\n",
        "  suma = 0\n",
        "  for r in M:\n",
        "    for e in r:\n",
        "      suma += f(e)\n",
        "  return suma * cont"
      ],
      "execution_count": 44,
      "outputs": []
    },
    {
      "cell_type": "code",
      "metadata": {
        "colab": {
          "base_uri": "https://localhost:8080/"
        },
        "id": "Kvfi8Amn_hGu",
        "outputId": "f14420c6-171d-4ef7-da23-292cc13e06fd"
      },
      "source": [
        "# Prueba de suma_Riemann con el ejemplo de la clase pasada\n",
        "def f(p):\n",
        "  x, y = p[0], p[1]\n",
        "  return x**2 * y\n",
        "A = Celda([[0,2],[0,1]])\n",
        "n = 1000\n",
        "\n",
        "aprox_integral = suma_Riemann(f, A, n)\n",
        "\n",
        "print('La aproximación de la integral con Suma de Riemann con n igual a', n,'es:')\n",
        "print(aprox_integral)"
      ],
      "execution_count": 45,
      "outputs": [
        {
          "output_type": "stream",
          "text": [
            "La aproximación de la integral con Suma de Riemann con n igual a 1000 es:\n",
            "1.3333330000000385\n"
          ],
          "name": "stdout"
        }
      ]
    },
    {
      "cell_type": "markdown",
      "metadata": {
        "id": "x2kNcXYKnXeE"
      },
      "source": [
        "El valor exacto de esta integral es\n",
        "\n",
        "$$\\int_{A}f = \\int_0^2\\int_0^1x^2 y\\,dy\\,dx = \\frac{1}{2}\\int_0^2 x^2\\,dx =  \\frac{1}{2}\\frac{8}{3} = \\frac{4}{3}$$\n",
        "\n",
        "**¡Nuestra función aproxima correctamente la integral!** \n",
        "\n",
        "Más aún el teorema de las sumas de Riemann nos asegura que cuanto mayor sea $n$, mejor aproximaremos la integral.\n",
        "*¿Pero es esto posible?*"
      ]
    },
    {
      "cell_type": "markdown",
      "metadata": {
        "id": "cXcvjTOrqM9d"
      },
      "source": [
        "A continuación se muestra una gráfica del tiempo que tarda el método suma_Riemann(), en función del tamaño de la partición regular $n$\n",
        "\n"
      ]
    },
    {
      "cell_type": "code",
      "metadata": {
        "id": "E3Bk1tomqNN5"
      },
      "source": [
        "tiempos = []\n",
        "step = 500\n",
        "max_n = 5000\n",
        "axis = range(step, max_n, step)\n",
        "for x in axis:\n",
        "  tic = time.time()\n",
        "  aprox = suma_Riemann(f, A, x)\n",
        "  toc = time.time()\n",
        "  tiempos.append(toc-tic)"
      ],
      "execution_count": 46,
      "outputs": []
    },
    {
      "cell_type": "code",
      "metadata": {
        "colab": {
          "base_uri": "https://localhost:8080/",
          "height": 282
        },
        "id": "YApR6JGLtNr9",
        "outputId": "4a4d300a-bb59-4d82-825e-d1df9430ebe2"
      },
      "source": [
        "plt.plot(axis, tiempos, 'ro')\n",
        "plt.show"
      ],
      "execution_count": 47,
      "outputs": [
        {
          "output_type": "execute_result",
          "data": {
            "text/plain": [
              "<function matplotlib.pyplot.show>"
            ]
          },
          "metadata": {
            "tags": []
          },
          "execution_count": 47
        },
        {
          "output_type": "display_data",
          "data": {
            "image/png": "[encoded data removed]",
            "text/plain": [
              "<Figure size 432x288 with 1 Axes>"
            ]
          },
          "metadata": {
            "tags": [],
            "needs_background": "light"
          }
        }
      ]
    },
    {
      "cell_type": "markdown",
      "metadata": {
        "id": "Ejdx9DST3D97"
      },
      "source": [
        "Se observa que el tiempo varía cuadráticamente en función del tamño de la entrada, y también se observa que para $n>1500$, $t_n > 20s$.\n",
        "\n",
        "¿Podemos hacerlo más rápidamente?"
      ]
    },
    {
      "cell_type": "markdown",
      "metadata": {
        "id": "c1widUIw50__"
      },
      "source": [
        "Usemos la librería de cómputo Numpy para optimizar la función suma_Riemann()"
      ]
    },
    {
      "cell_type": "code",
      "metadata": {
        "id": "L97Wg_hg6GKQ"
      },
      "source": [
        "def suma_Riemann_np(f, A, n):\n",
        "  Ix = A.componentes[0]\n",
        "  Iy = A.componentes[1]\n",
        "  deltax = (Ix[1] - Ix[0])/n\n",
        "  deltay = (Iy[1] - Iy[0])/n\n",
        "  contenido = deltax*deltay\n",
        "  p = [Ix[0]+deltax/2, Iy[0]+deltay/2]\n",
        "\n",
        "  M = np.fromfunction(\n",
        "      lambda i,j: f([p[0]+i*deltax, p[1]+j*deltay]),\n",
        "      (n,n),\n",
        "      dtype=np.longdouble\n",
        "  )\n",
        "  return M.sum()*contenido"
      ],
      "execution_count": 48,
      "outputs": []
    },
    {
      "cell_type": "code",
      "metadata": {
        "colab": {
          "base_uri": "https://localhost:8080/"
        },
        "id": "Nu2J80AC7m1i",
        "outputId": "f26d86a9-e755-440e-e641-f0773f06302c"
      },
      "source": [
        "aprox_integral = suma_Riemann_np(f, A, n)\n",
        "\n",
        "print('La aproximación de la integral con Suma de Riemann usando Numpy con n igual a', n,'es:')\n",
        "print(aprox_integral)"
      ],
      "execution_count": 49,
      "outputs": [
        {
          "output_type": "stream",
          "text": [
            "La aproximación de la integral con Suma de Riemann usando Numpy con n igual a 1000 es:\n",
            "1.3333330000000000227\n"
          ],
          "name": "stdout"
        }
      ]
    },
    {
      "cell_type": "markdown",
      "metadata": {
        "id": "TOcxboZJ8Wgd"
      },
      "source": [
        "Hagamos la misma gráfica de tiempo vs entrada con la nueva función. "
      ]
    },
    {
      "cell_type": "code",
      "metadata": {
        "id": "57TlV_2R8djx"
      },
      "source": [
        "tiempos_np = []\n",
        "for x in axis:\n",
        "  tic = time.time()\n",
        "  aprox = suma_Riemann_np(f, A, x)\n",
        "  toc = time.time()\n",
        "  tiempos_np.append(toc-tic)"
      ],
      "execution_count": 50,
      "outputs": []
    },
    {
      "cell_type": "code",
      "metadata": {
        "colab": {
          "base_uri": "https://localhost:8080/",
          "height": 282
        },
        "id": "7x-1kava8lPS",
        "outputId": "ee1bd963-c231-446d-8472-38a9b5cbdc7f"
      },
      "source": [
        "plt.plot(axis, tiempos_np, 'bo')\n",
        "plt.show"
      ],
      "execution_count": 51,
      "outputs": [
        {
          "output_type": "execute_result",
          "data": {
            "text/plain": [
              "<function matplotlib.pyplot.show>"
            ]
          },
          "metadata": {
            "tags": []
          },
          "execution_count": 51
        },
        {
          "output_type": "display_data",
          "data": {
            "image/png": "[encoded data removed]",
            "text/plain": [
              "<Figure size 432x288 with 1 Axes>"
            ]
          },
          "metadata": {
            "tags": [],
            "needs_background": "light"
          }
        }
      ]
    },
    {
      "cell_type": "markdown",
      "metadata": {
        "id": "Nt6YNn_j82pq"
      },
      "source": [
        "A pesar de comportarse cuadráticamente, esta solución presenta una mejora en la velocidad importante, el primer método tardaba más de $20s$ para manejar una entrada con $n= 4500$ mientras que la implementación con numpy tarda $0.7s$ aproximadamente.\n",
        "\n",
        "La diferencia es más clara si vemos la siguiente gráfica."
      ]
    },
    {
      "cell_type": "code",
      "metadata": {
        "colab": {
          "base_uri": "https://localhost:8080/",
          "height": 282
        },
        "id": "c-niHn129P9i",
        "outputId": "6d3f8c49-4a2b-4fcd-d292-d6335926de3f"
      },
      "source": [
        "plt.plot(axis, tiempos, 'ro', axis, tiempos_np, 'bo')\n",
        "plt.show"
      ],
      "execution_count": 52,
      "outputs": [
        {
          "output_type": "execute_result",
          "data": {
            "text/plain": [
              "<function matplotlib.pyplot.show>"
            ]
          },
          "metadata": {
            "tags": []
          },
          "execution_count": 52
        },
        {
          "output_type": "display_data",
          "data": {
            "image/png": "[encoded data removed]",
            "text/plain": [
              "<Figure size 432x288 with 1 Axes>"
            ]
          },
          "metadata": {
            "tags": [],
            "needs_background": "light"
          }
        }
      ]
    },
    {
      "cell_type": "markdown",
      "metadata": {
        "id": "8xoJoYv398Rs"
      },
      "source": [
        "#Ejercicios\n",
        "\n",
        "\n",
        "1.   Calcula con el *Teorema de Fubini* y con la función suma_Riemann_np la integral $\\int_A f$ donde:\n",
        "  *   $A = [5,6]\\times [-3,1]$ y $f(x,y) = \\sin(x)\\cos(y)$\n",
        "  *   $A = [-11.45,-7.68]\\times [0,1000]$ y $f(x,y) = \\pi x^4+xy+e y^6$\n",
        "\n",
        "\n",
        "2.   Investiga sobre las funciones *np.fromfunction* y *np.sum* usadas en la función suma_Riemann_np.\n",
        "\n"
      ]
    }
  ]
}