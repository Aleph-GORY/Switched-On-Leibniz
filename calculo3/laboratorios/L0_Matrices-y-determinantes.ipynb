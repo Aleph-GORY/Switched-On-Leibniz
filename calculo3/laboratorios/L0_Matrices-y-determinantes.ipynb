{
 "cells": [
  {
   "cell_type": "markdown",
   "metadata": {},
   "source": [
    "# Matrices y determinantes\n",
    "\n",
    "Laboratorio de cálculo diferencial e integral 3.\n",
    "\n",
    "*Prof. Armando Benjamin Cruz Hinojosa (Gory).*"
   ]
  },
  {
   "cell_type": "code",
   "execution_count": null,
   "metadata": {},
   "outputs": [],
   "source": [
    "%matplotlib widget\n",
    "\n",
    "import numpy as np\n",
    "from mpl_toolkits.mplot3d import Axes3D\n",
    "import matplotlib.pyplot as plt\n",
    "from PIL import Image as Im"
   ]
  },
  {
   "cell_type": "markdown",
   "metadata": {},
   "source": [
    "## Definición"
   ]
  },
  {
   "cell_type": "markdown",
   "metadata": {},
   "source": [
    "Una *matriz* de $n\\times m$ con valores en un campo $\\mathbb{F}$, es una función $M: [n]\\times[m] \\rightarrow \\mathbb{F}$ que representa un arreglo bidimesnional\n",
    "\n",
    "$$\n",
    "\\left[\n",
    "    \\begin{matrix}\n",
    "    M_{0,0} & M_{0,1} & \\cdots & M_{0,m}\\\\\n",
    "    M_{1,0} & M_{1,1} & \\cdots & M_{1,m}\\\\\n",
    "    \\vdots & \\vdots & \\ddots & \\vdots\\\\\n",
    "    M_{n,0} & M_{n,1} & \\cdots & M_{n,m}\\\\\n",
    "    \\end{matrix}\n",
    "\\right]\n",
    "$$\n",
    "\n",
    "Donde cada $M_{i,j} := M(i,j)$ pertenece al campo $\\mathbb{F}$"
   ]
  },
  {
   "cell_type": "markdown",
   "metadata": {},
   "source": [
    "### Estructuras de datos"
   ]
  },
  {
   "cell_type": "code",
   "execution_count": null,
   "metadata": {},
   "outputs": [],
   "source": [
    "# Lista de m listas de n elementos cada una\n",
    "\n",
    "matriz = [\n",
    "    [1,2,3],\n",
    "    [4,5,6]\n",
    "]\n",
    "\n",
    "print('matriz:', matriz)\n",
    "print('Typo de dato:', type(matriz))\n",
    "print('n:', len(matriz))\n",
    "print('m:', len(matriz[0]))\n",
    "print('M[1][2]:', matriz[1][2])\n"
   ]
  },
  {
   "cell_type": "code",
   "execution_count": null,
   "metadata": {},
   "outputs": [],
   "source": [
    "# Arreglo de numpy\n",
    "matriz = np.array([\n",
    "    [1,2,3],\n",
    "    [4,5,6]\n",
    "], dtype=float)\n",
    "\n",
    "print('matriz:\\n', matriz)\n",
    "print('Typo de dato:', type(matriz))\n",
    "print('forma:', matriz.shape)\n",
    "print('n:', len(matriz), matriz.shape[0])\n",
    "print('m:', len(matriz[0]), matriz.shape[1])\n",
    "print('M[1,2]:', matriz[1][2], matriz[1,2])"
   ]
  },
  {
   "cell_type": "code",
   "execution_count": null,
   "metadata": {},
   "outputs": [],
   "source": [
    "# A partir de la función\n",
    "def M(i,j):\n",
    "    return 2*i + 3*j\n",
    "\n",
    "np.fromfunction(M,(4,4))"
   ]
  },
  {
   "cell_type": "markdown",
   "metadata": {},
   "source": [
    "## Las pantallas son matrices"
   ]
  },
  {
   "cell_type": "markdown",
   "metadata": {},
   "source": [
    "Las pantallas OLED son arreglos bidimensionales de OLEDs que se iluminan de forma específica para mostrar imágenes y videos. Esto hace a las matrices estructuras idoneas para almacenar información gráfica, como lo hacen por ejemplo los archivos PNG."
   ]
  },
  {
   "cell_type": "code",
   "execution_count": null,
   "metadata": {},
   "outputs": [],
   "source": [
    "skull = Im.open('./Andy-Warhol-Skull-1976.png').convert(\"L\")\n",
    "skull"
   ]
  },
  {
   "cell_type": "code",
   "execution_count": null,
   "metadata": {},
   "outputs": [],
   "source": [
    "skull_array = np.asarray(skull)\n",
    "\n",
    "print('forma:', skull_array.shape)\n",
    "print('skull[50,60]:', skull_array[50,60])\n",
    "print('min:', np.min(skull_array))\n",
    "print('min:', np.max(skull_array))\n",
    "\n",
    "skull_array"
   ]
  },
  {
   "cell_type": "markdown",
   "metadata": {},
   "source": [
    "Cada entrada de esta matriz es un número entre 0 y 255 y representa el valor en escala de grises del pixel.  "
   ]
  },
  {
   "cell_type": "code",
   "execution_count": null,
   "metadata": {},
   "outputs": [],
   "source": [
    "skull_negro = skull_array < 20\n",
    "skull_gris = (skull_array > 20) & (skull_array < 150)\n",
    "skull_blanco = skull_array > 150\n",
    "\n",
    "skulls = [Im.fromarray(skull_negro),Im.fromarray(skull_gris), Im.fromarray(skull_blanco)]"
   ]
  },
  {
   "cell_type": "code",
   "execution_count": null,
   "metadata": {},
   "outputs": [],
   "source": [
    "f, axarr = plt.subplots(2,2)\n",
    "axarr[0,0].imshow(skull)\n",
    "axarr[0,1].imshow(skulls[0])\n",
    "axarr[1,0].imshow(skulls[1])\n",
    "axarr[1,1].imshow(skulls[2])\n",
    "\n",
    "for ax in axarr.flatten():\n",
    "    ax.axis(\"off\")"
   ]
  },
  {
   "cell_type": "markdown",
   "metadata": {},
   "source": [
    "## Operaciones en matrices"
   ]
  },
  {
   "cell_type": "markdown",
   "metadata": {},
   "source": [
    "### Transposición"
   ]
  },
  {
   "cell_type": "code",
   "execution_count": null,
   "metadata": {},
   "outputs": [],
   "source": [
    "skull_trans = skull_array.T\n",
    "\n",
    "print('forma:', skull_trans.shape)\n",
    "print('skull[50,60]:', skull_trans[50,60])\n",
    "print('min:', np.min(skull_trans))\n",
    "print('min:', np.max(skull_trans))\n",
    "\n",
    "skull_trans"
   ]
  },
  {
   "cell_type": "code",
   "execution_count": null,
   "metadata": {},
   "outputs": [],
   "source": [
    "Im.fromarray(skull_trans)"
   ]
  },
  {
   "cell_type": "markdown",
   "metadata": {},
   "source": [
    "### Negativo"
   ]
  },
  {
   "cell_type": "code",
   "execution_count": null,
   "metadata": {},
   "outputs": [],
   "source": [
    "skull_neg = 255 - skull_array\n",
    "\n",
    "print('forma:', skull_neg.shape)\n",
    "print('skull[50,60]:', skull_neg[50,60])\n",
    "print('min:', np.min(skull_neg))\n",
    "print('max:', np.max(skull_neg))\n",
    "\n",
    "skull_neg"
   ]
  },
  {
   "cell_type": "code",
   "execution_count": null,
   "metadata": {},
   "outputs": [],
   "source": [
    "Im.fromarray(skull_neg)"
   ]
  },
  {
   "cell_type": "markdown",
   "metadata": {},
   "source": [
    "## Transformaciones lineales"
   ]
  },
  {
   "cell_type": "markdown",
   "metadata": {},
   "source": [
    "Recordemos que las bases cumplen dos propiedades importantes:\n",
    "\n",
    "<ol>\n",
    "  <li> \n",
    "  \n",
    "  Todo vector $v$ en $\\mathbb{R}^n$ puede ser representado de forma única como una combinación lineal de elementos de la base canónica\n",
    "\n",
    "  $$v = \\alpha_0e_0 + \\alpha_1e_1 + \\cdots + \\alpha_{n-1} e_{n-1}$$\n",
    "\n",
    "  así que cada vector puede ser representado como una matriz de $1\\times n$.\n",
    "\n",
    "  $$\n",
    "  [v] = \n",
    "  \\left[\n",
    "    \\begin{matrix}\n",
    "    \\alpha_0\\\\\n",
    "    \\alpha_1\\\\\n",
    "    \\vdots\\\\\n",
    "    \\alpha_{n-1}\\\\\n",
    "    \\end{matrix}\n",
    "  \\right]\n",
    "  $$\n",
    "\n",
    "  </li>\n",
    "  <li>\n",
    "  \n",
    "  Toda función lineal $F: \\mathbb{R}^n\\rightarrow\\mathbb{R}^m$ está determinada por la imagen de la base y esta puede ser representada como una matriz\n",
    "\n",
    "  $$\n",
    "  [F] =\n",
    "  \\left[\n",
    "    [F(e_0)]\\quad\n",
    "    [F(e_1)]\n",
    "    \\cdots\n",
    "    [F(e_n)]\n",
    "  \\right]\n",
    "  =\n",
    "  \\left[\n",
    "    \\begin{matrix}\n",
    "    F(e_0)_0 & F(e_1)_0 & \\cdots & F(e_{n-1})_0\\\\\n",
    "    F(e_0)_1 & F(e_1)_1 & \\cdots & F(e_{n-1})_1\\\\\n",
    "    \\vdots & \\vdots & \\ddots & \\vdots\\\\\n",
    "    F(e_{0})_{m-1} & F(e_1)_{m-1} & \\cdots & F(e_{n-1})_{m-1}\\\\\n",
    "    \\end{matrix}\n",
    "  \\right]\n",
    "  $$\n",
    "  \n",
    "  que satisface la ecuación\n",
    "\n",
    "  $$ [F(v)] = [F][v] $$\n",
    "  \n",
    "  </li>\n",
    "</ol> "
   ]
  },
  {
   "cell_type": "markdown",
   "metadata": {},
   "source": [
    "### Proyección ortogonal"
   ]
  },
  {
   "cell_type": "markdown",
   "metadata": {},
   "source": [
    "La función $\\pi_Z: \\mathbb{R}^3\\rightarrow\\mathbb{R}^2$ definida como $\\pi_Z(x,y,z) = (x,y)$ es la proyección ortogonal del espacio a través del eje $Z$. Evaluada en la base canónica\n",
    "\n",
    "$$ \n",
    "\\pi_Z(e_0) = \\pi_Z(1,0,0) = \n",
    "\\left[\n",
    "    \\begin{matrix}\n",
    "    1\\\\\n",
    "    0\n",
    "    \\end{matrix}\n",
    "\\right]\n",
    "$$\n",
    "$$ \n",
    "\\pi_Z(e_1) = \\pi_Z(0,1,0) = \n",
    "\\left[\n",
    "    \\begin{matrix}\n",
    "    0\\\\\n",
    "    1\n",
    "    \\end{matrix}\n",
    "\\right]\n",
    "$$\n",
    "$$ \n",
    "\\pi_Z(e_2) = \\pi_Z(0,0,1) = \n",
    "\\left[\n",
    "    \\begin{matrix}\n",
    "    0\\\\\n",
    "    0\n",
    "    \\end{matrix}\n",
    "\\right]\n",
    "$$\n",
    "\n",
    "por lo que la matriz asociada $\\pi$ es\n",
    "\n",
    "$$ [\\pi_Z] =  \n",
    "\\left[\n",
    "    \\begin{matrix}\n",
    "    1 & 0 & 0\\\\\n",
    "    0 & 1 & 0\n",
    "    \\end{matrix}\n",
    "\\right]\n",
    "$$"
   ]
  },
  {
   "cell_type": "code",
   "execution_count": null,
   "metadata": {},
   "outputs": [],
   "source": [
    "# Paramterización de la curva\n",
    "T = np.linspace(-7,7,1000)\n",
    "x = T\n",
    "y = np.sin(T)\n",
    "z = np.cos(T)\n",
    "\n",
    "ax = plt.figure().add_subplot(projection='3d')\n",
    "ax.plot(x, y, z)\n",
    "\n",
    "# Proyección de la curva\n",
    "pi_z_matriz = np.array([\n",
    "    [1, 0, 0],\n",
    "    [0, 1, 0]\n",
    "])\n",
    "\n",
    "proyeccion = [\n",
    "    pi_z_matriz @ np.array([t, np.sin(t), np.cos(t)]) \n",
    "    for t in T\n",
    "]\n",
    "x_proy = [ p[0] for p in proyeccion]\n",
    "y_proy = [ p[1] for p in proyeccion]\n",
    "ax.plot(x_proy, y_proy, 0, color='green')\n",
    "\n",
    "plt.show()"
   ]
  },
  {
   "cell_type": "markdown",
   "metadata": {},
   "source": [
    "### Rotación en el plano"
   ]
  },
  {
   "cell_type": "code",
   "execution_count": null,
   "metadata": {},
   "outputs": [],
   "source": [
    "def matriz_rotacion(theta):\n",
    "    return np.array([\n",
    "        [np.cos(theta), -np.sin(theta)],\n",
    "        [np.sin(theta), np.cos(theta)]\n",
    "    ], dtype=float)\n",
    "\n",
    "rotacion = matriz_rotacion(70/180*np.pi)\n",
    "\n",
    "# print(f\"[{rotacion[0,0]},{rotacion[0,1]};{rotacion[1,0]},{rotacion[1,1]}]\")\n",
    "rotacion"
   ]
  },
  {
   "cell_type": "code",
   "execution_count": null,
   "metadata": {},
   "outputs": [],
   "source": [
    "rotacion@[1,0]"
   ]
  },
  {
   "cell_type": "markdown",
   "metadata": {},
   "source": [
    "## Determinante"
   ]
  },
  {
   "cell_type": "markdown",
   "metadata": {},
   "source": [
    "### ¿Qué es el determinante?"
   ]
  },
  {
   "cell_type": "markdown",
   "metadata": {},
   "source": [
    "El determinante es una operación sobre el espacio de matrices que indica cuando un sistema de ecuaciones lineales tiene solución asociado a una matriz $A$."
   ]
  },
  {
   "cell_type": "markdown",
   "metadata": {},
   "source": [
    "**Definición**: Sea un sistema de $n$ ecuaciones en $m$ incógnitas definido como\n",
    "\n",
    "$$\n",
    "\\begin{align*}\n",
    "a_{0,0}x_0 + a_{0,1}x_1 + \\cdots + a_{0,m-1}x_{m-1} &= b_0\\\\\n",
    "a_{1,0}x_0 + a_{1,1}x_1 + \\cdots + a_{1,m-1}x_{m-1} &= b_1\\\\\n",
    "\\vdots \\hspace{60pt} & \\hspace{5pt}\\vdots\\\\\n",
    "a_{n-1,0}x_0 + a_{n-1,1}x_1 + \\cdots + a_{n-1,m-1}x_{m-1} &= b_{n-1}\n",
    "\\end{align*}\n",
    "$$\n",
    "\n",
    "La representación en forma matricial del sistema de ecuaciones es\n",
    "\n",
    "$$\n",
    "% Matriz de coeficientes\n",
    "\\left[\n",
    "    \\begin{matrix}\n",
    "    a_{0,0} & a_{0,1} & \\cdots & a_{0,m-1}\\\\\n",
    "    a_{1,0} & a_{1,1} & \\cdots & a_{1,m-1}\\\\\n",
    "    \\vdots & \\vdots & \\ddots & \\vdots\\\\\n",
    "    a_{n-1,0} & a_{n-1,1} & \\cdots & a_{n-1,m-1}\\\\\n",
    "    \\end{matrix}\n",
    "\\right]\n",
    "% Vector de incógnitas\n",
    "\\left[\n",
    "    \\begin{matrix}\n",
    "    x_{0}\\\\\n",
    "    x_{1}\\\\\n",
    "    \\vdots \\\\\n",
    "    x_{m-1}\\\\\n",
    "    \\end{matrix}\n",
    "\\right]\n",
    "=\n",
    "% Vector de terminos independientes\n",
    "\\left[\n",
    "    \\begin{matrix}\n",
    "    b_{0}\\\\\n",
    "    b_{1}\\\\\n",
    "    \\vdots \\\\\n",
    "    b_{n-1}\\\\\n",
    "    \\end{matrix}\n",
    "\\right]\n",
    "$$\n"
   ]
  },
  {
   "cell_type": "markdown",
   "metadata": {},
   "source": [
    "**Teorema**: Sea un sistema de ecuaciones lineales de $n$ variables con $n$ incógnitas, espresado en forma matricial como $A\\bar{x}=\\bar{b}$.\n",
    "\n",
    "El sistema tiene solución única si y sólamente si $\\det(A) \\neq 0$."
   ]
  },
  {
   "cell_type": "markdown",
   "metadata": {},
   "source": [
    "### Interpretación geométrica del determinante"
   ]
  },
  {
   "cell_type": "markdown",
   "metadata": {},
   "source": [
    "Considérese la transformación lineal inducida por la matriz\n",
    "\n",
    "$$\n",
    "A = \n",
    "\\left[\n",
    "    \\begin{matrix}\n",
    "    1 & 2/5\\\\\n",
    "    0 & 1\n",
    "    \\end{matrix}\n",
    "\\right]\n",
    "$$"
   ]
  },
  {
   "cell_type": "code",
   "execution_count": null,
   "metadata": {},
   "outputs": [],
   "source": [
    "# Cálculo del determinante\n",
    "A = np.array([\n",
    "    [2*np.cos(.5), -2*np.sin(.5)],\n",
    "    [2*np.sin(.5), 2*np.cos(.5)]\n",
    "])\n",
    "\n",
    "np.linalg.det(A)"
   ]
  },
  {
   "cell_type": "markdown",
   "metadata": {},
   "source": [
    "Cuya transformación se ve en el plano como"
   ]
  },
  {
   "cell_type": "code",
   "execution_count": null,
   "metadata": {},
   "outputs": [],
   "source": [
    "# Vectores canónicos\n",
    "origen = [0,0]\n",
    "e0 = [1,0]\n",
    "e1 = [0,1]\n",
    " \n",
    "# Inicializar los gráficos\n",
    "fig, ax = plt.subplots(figsize = (5, 5))\n",
    "plt.axis('equal')\n",
    "\n",
    "# Vectores canónicos\n",
    "ax.arrow(*origen, *e0, color='orange')\n",
    "ax.arrow(*origen, *e1, color='orange')\n",
    "ax.arrow(*e1, *e0, color='gray')\n",
    "ax.arrow(*e0, *e1, color='gray')\n",
    "\n",
    "# Imagen de los vectores canónicos\n",
    "ax.arrow(*origen, *(A@e0), color='red')\n",
    "ax.arrow(*origen, *(A@e1), color='red')\n",
    "ax.arrow(*(A@e1), *(A@e0), color='blue')\n",
    "ax.arrow(*(A@e0), *(A@e1), color='blue')\n",
    " \n",
    "plt.show()"
   ]
  },
  {
   "cell_type": "markdown",
   "metadata": {},
   "source": [
    "El determinante calcula el área del paralelogramo formado por las imágenes de los vectores canónicos. Este número también es el factor de escalamioento del área que sufre cualquier figura plana después de ser transformada por una función lineal."
   ]
  }
 ],
 "metadata": {
  "kernelspec": {
   "display_name": "Python 3.10.6 ('kaggle')",
   "language": "python",
   "name": "python3"
  },
  "language_info": {
   "codemirror_mode": {
    "name": "ipython",
    "version": 3
   },
   "file_extension": ".py",
   "mimetype": "text/x-python",
   "name": "python",
   "nbconvert_exporter": "python",
   "pygments_lexer": "ipython3",
   "version": "3.10.6"
  },
  "orig_nbformat": 4,
  "vscode": {
   "interpreter": {
    "hash": "16bc289871c2fb92842111978fce260966f242855dbaa983518f695bfc003667"
   }
  }
 },
 "nbformat": 4,
 "nbformat_minor": 2
}
