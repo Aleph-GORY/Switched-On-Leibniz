{
 "cells": [
  {
   "cell_type": "markdown",
   "metadata": {},
   "source": [
    "# [Práctica] Matrices y determinantes."
   ]
  },
  {
   "cell_type": "markdown",
   "metadata": {},
   "source": [
    "## Ejercicio 1"
   ]
  },
  {
   "cell_type": "markdown",
   "metadata": {},
   "source": [
    "### Indicaciones"
   ]
  },
  {
   "cell_type": "markdown",
   "metadata": {},
   "source": [
    "Escribe un programa que imprima las primeras 10 potencias de la matriz\n",
    "\n",
    "$$\n",
    "F=\n",
    "\\left[\n",
    "    \\begin{matrix}\n",
    "    1 & 1 \\\\\n",
    "    1 & 0\n",
    "    \\end{matrix}\n",
    "\\right]\n",
    "$$\n",
    "\n",
    "En base a los resultados deduce una fórmula para $F^n$ y demuéstrala por inducción."
   ]
  },
  {
   "cell_type": "markdown",
   "metadata": {},
   "source": [
    "### Solución"
   ]
  },
  {
   "cell_type": "code",
   "execution_count": 1,
   "metadata": {},
   "outputs": [],
   "source": [
    "# Ejercicio 1"
   ]
  },
  {
   "cell_type": "markdown",
   "metadata": {},
   "source": [
    "## Ejercicio 2"
   ]
  },
  {
   "cell_type": "markdown",
   "metadata": {},
   "source": [
    "### Indicaciones"
   ]
  },
  {
   "cell_type": "markdown",
   "metadata": {},
   "source": [
    "Calcula la matriz inducida por la proyección ortogonal de $\\mathbb{R}^3$ sobre el plano W, que intersecta al plano XY en el eje X y forma un ángulo de 37° con respecto a este mismo plano.\n",
    "\n",
    "Grafica en el espacio la proyección ortogonal de la hélice parametrizada en el laboratorio sobre el plano W."
   ]
  },
  {
   "cell_type": "markdown",
   "metadata": {},
   "source": [
    "### Solución"
   ]
  },
  {
   "cell_type": "code",
   "execution_count": 2,
   "metadata": {},
   "outputs": [],
   "source": [
    "# Ejercicio 2"
   ]
  }
 ],
 "metadata": {
  "kernelspec": {
   "display_name": "Python 3.10.6 ('kaggle')",
   "language": "python",
   "name": "python3"
  },
  "language_info": {
   "codemirror_mode": {
    "name": "ipython",
    "version": 3
   },
   "file_extension": ".py",
   "mimetype": "text/x-python",
   "name": "python",
   "nbconvert_exporter": "python",
   "pygments_lexer": "ipython3",
   "version": "3.10.6"
  },
  "orig_nbformat": 4,
  "vscode": {
   "interpreter": {
    "hash": "16bc289871c2fb92842111978fce260966f242855dbaa983518f695bfc003667"
   }
  }
 },
 "nbformat": 4,
 "nbformat_minor": 2
}
